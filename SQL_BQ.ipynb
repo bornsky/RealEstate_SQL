{
 "cells": [
  {
   "cell_type": "code",
   "execution_count": null,
   "metadata": {},
   "outputs": [],
   "source": [
    "import pandas\n",
    "import matplotlib.pyplot as plt\n",
    "import numpy as np\n",
    "\n",
    "process_date = \"2019-11-28\"\n",
    "process_date_no_dash = \"20191128\"\n",
    "project_id = 'reilistpro'\n"
   ]
  },
  {
   "cell_type": "markdown",
   "metadata": {},
   "source": [
    "<b>SQL Queries</b>\n"
   ]
  },
  {
   "cell_type": "code",
   "execution_count": null,
   "metadata": {},
   "outputs": [],
   "source": [
    "query = \"\"\"\n",
    "    SELECT \n",
    "    FROM `` AS b\n",
    "    LIMIT 10\n",
    "\"\"\".format(process_date_no_dash)\n",
    "\n",
    "# Run a Standard SQL query using the environment's default project\n",
    "df = pandas.read_gbq(query, dialect='standard')\n",
    "\n",
    "# Run a Standard SQL query with the project set explicitly\n",
    "df = pandas.read_gbq(query, project_id=project_id, dialect='standard')\n",
    "\n",
    "print(query)\n",
    "\n",
    "df.head(10)"
   ]
  }
 ],
 "metadata": {
  "kernelspec": {
   "display_name": "Python 3",
   "language": "python",
   "name": "python3"
  },
  "language_info": {
   "codemirror_mode": {
    "name": "ipython",
    "version": 3
   },
   "file_extension": ".py",
   "mimetype": "text/x-python",
   "name": "python",
   "nbconvert_exporter": "python",
   "pygments_lexer": "ipython3",
   "version": "3.7.5"
  }
 },
 "nbformat": 4,
 "nbformat_minor": 2
}
